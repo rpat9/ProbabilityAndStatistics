{
 "cells": [
  {
   "cell_type": "markdown",
   "metadata": {},
   "source": [
    "PART 1: HEALTH DATA"
   ]
  },
  {
   "cell_type": "code",
   "execution_count": 14,
   "metadata": {},
   "outputs": [],
   "source": [
    "#Import all the libraries needed\n",
    "import pandas as pd\n",
    "import numpy as np\n",
    "\n",
    "import matplotlib.pyplot as plt\n",
    "%matplotlib inline"
   ]
  },
  {
   "cell_type": "code",
   "execution_count": 15,
   "metadata": {},
   "outputs": [],
   "source": [
    "#Make a data frame from the csv file downloaded\n",
    "df = pd.read_csv('add_health_data.csv', index_col=None, encoding='utf-8')"
   ]
  },
  {
   "cell_type": "code",
   "execution_count": 38,
   "metadata": {},
   "outputs": [
    {
     "data": {
      "text/html": [
       "<div>\n",
       "<style scoped>\n",
       "    .dataframe tbody tr th:only-of-type {\n",
       "        vertical-align: middle;\n",
       "    }\n",
       "\n",
       "    .dataframe tbody tr th {\n",
       "        vertical-align: top;\n",
       "    }\n",
       "\n",
       "    .dataframe thead th {\n",
       "        text-align: right;\n",
       "    }\n",
       "</style>\n",
       "<table border=\"1\" class=\"dataframe\">\n",
       "  <thead>\n",
       "    <tr style=\"text-align: right;\">\n",
       "      <th></th>\n",
       "      <th>AID</th>\n",
       "      <th>BIO_SEX</th>\n",
       "      <th>agew1</th>\n",
       "      <th>IMONTH4</th>\n",
       "      <th>IDAY4</th>\n",
       "      <th>IYEAR4</th>\n",
       "      <th>MACNO4</th>\n",
       "      <th>INTID4</th>\n",
       "      <th>BIO_SEX4</th>\n",
       "      <th>VERSION4</th>\n",
       "      <th>...</th>\n",
       "      <th>H4EO5C</th>\n",
       "      <th>H4EO5D</th>\n",
       "      <th>H4EO5E</th>\n",
       "      <th>H4EO5F</th>\n",
       "      <th>H4EO5G</th>\n",
       "      <th>H4EO5H</th>\n",
       "      <th>H4EO5I</th>\n",
       "      <th>H4EO5J</th>\n",
       "      <th>H4EO6</th>\n",
       "      <th>H4EO7</th>\n",
       "    </tr>\n",
       "  </thead>\n",
       "  <tbody>\n",
       "    <tr>\n",
       "      <th>0</th>\n",
       "      <td>5710027</td>\n",
       "      <td>2</td>\n",
       "      <td></td>\n",
       "      <td></td>\n",
       "      <td></td>\n",
       "      <td>NaN</td>\n",
       "      <td></td>\n",
       "      <td></td>\n",
       "      <td></td>\n",
       "      <td></td>\n",
       "      <td>...</td>\n",
       "      <td></td>\n",
       "      <td></td>\n",
       "      <td></td>\n",
       "      <td></td>\n",
       "      <td></td>\n",
       "      <td></td>\n",
       "      <td></td>\n",
       "      <td></td>\n",
       "      <td></td>\n",
       "      <td></td>\n",
       "    </tr>\n",
       "    <tr>\n",
       "      <th>1</th>\n",
       "      <td>5710131</td>\n",
       "      <td>2</td>\n",
       "      <td>19.42739726</td>\n",
       "      <td>5</td>\n",
       "      <td>6</td>\n",
       "      <td>2008.0</td>\n",
       "      <td>2288160</td>\n",
       "      <td>160</td>\n",
       "      <td>2</td>\n",
       "      <td>V5.4</td>\n",
       "      <td>...</td>\n",
       "      <td>0</td>\n",
       "      <td>0</td>\n",
       "      <td>0</td>\n",
       "      <td>0</td>\n",
       "      <td>0</td>\n",
       "      <td>0</td>\n",
       "      <td>0</td>\n",
       "      <td>0</td>\n",
       "      <td>2</td>\n",
       "      <td>1</td>\n",
       "    </tr>\n",
       "    <tr>\n",
       "      <th>2</th>\n",
       "      <td>5710317</td>\n",
       "      <td>1</td>\n",
       "      <td></td>\n",
       "      <td></td>\n",
       "      <td></td>\n",
       "      <td>NaN</td>\n",
       "      <td></td>\n",
       "      <td></td>\n",
       "      <td></td>\n",
       "      <td></td>\n",
       "      <td>...</td>\n",
       "      <td></td>\n",
       "      <td></td>\n",
       "      <td></td>\n",
       "      <td></td>\n",
       "      <td></td>\n",
       "      <td></td>\n",
       "      <td></td>\n",
       "      <td></td>\n",
       "      <td></td>\n",
       "      <td></td>\n",
       "    </tr>\n",
       "    <tr>\n",
       "      <th>3</th>\n",
       "      <td>5710386</td>\n",
       "      <td>1</td>\n",
       "      <td>20.43013699</td>\n",
       "      <td>5</td>\n",
       "      <td>22</td>\n",
       "      <td>2008.0</td>\n",
       "      <td>2288238</td>\n",
       "      <td>238</td>\n",
       "      <td>1</td>\n",
       "      <td>V5.4</td>\n",
       "      <td>...</td>\n",
       "      <td>0</td>\n",
       "      <td>0</td>\n",
       "      <td>0</td>\n",
       "      <td>0</td>\n",
       "      <td>0</td>\n",
       "      <td>0</td>\n",
       "      <td>0</td>\n",
       "      <td>0</td>\n",
       "      <td>4</td>\n",
       "      <td>1</td>\n",
       "    </tr>\n",
       "    <tr>\n",
       "      <th>4</th>\n",
       "      <td>5710455</td>\n",
       "      <td>2</td>\n",
       "      <td></td>\n",
       "      <td></td>\n",
       "      <td></td>\n",
       "      <td>NaN</td>\n",
       "      <td></td>\n",
       "      <td></td>\n",
       "      <td></td>\n",
       "      <td></td>\n",
       "      <td>...</td>\n",
       "      <td></td>\n",
       "      <td></td>\n",
       "      <td></td>\n",
       "      <td></td>\n",
       "      <td></td>\n",
       "      <td></td>\n",
       "      <td></td>\n",
       "      <td></td>\n",
       "      <td></td>\n",
       "      <td></td>\n",
       "    </tr>\n",
       "  </tbody>\n",
       "</table>\n",
       "<p>5 rows × 976 columns</p>\n",
       "</div>"
      ],
      "text/plain": [
       "       AID  BIO_SEX        agew1 IMONTH4 IDAY4  IYEAR4   MACNO4 INTID4  \\\n",
       "0  5710027        2                                NaN                   \n",
       "1  5710131        2  19.42739726       5     6  2008.0  2288160    160   \n",
       "2  5710317        1                                NaN                   \n",
       "3  5710386        1  20.43013699       5    22  2008.0  2288238    238   \n",
       "4  5710455        2                                NaN                   \n",
       "\n",
       "  BIO_SEX4 VERSION4  ... H4EO5C H4EO5D H4EO5E H4EO5F H4EO5G H4EO5H H4EO5I  \\\n",
       "0                    ...                                                    \n",
       "1        2     V5.4  ...      0      0      0      0      0      0      0   \n",
       "2                    ...                                                    \n",
       "3        1     V5.4  ...      0      0      0      0      0      0      0   \n",
       "4                    ...                                                    \n",
       "\n",
       "  H4EO5J H4EO6 H4EO7  \n",
       "0                     \n",
       "1      0     2     1  \n",
       "2                     \n",
       "3      0     4     1  \n",
       "4                     \n",
       "\n",
       "[5 rows x 976 columns]"
      ]
     },
     "execution_count": 38,
     "metadata": {},
     "output_type": "execute_result"
    }
   ],
   "source": [
    "df.head(5)"
   ]
  },
  {
   "cell_type": "code",
   "execution_count": 68,
   "metadata": {},
   "outputs": [],
   "source": [
    "#Saw from NaN and blank values. I decided to get rid of them to make it as accurate as possible\n",
    "df = df.dropna()"
   ]
  },
  {
   "cell_type": "code",
   "execution_count": 69,
   "metadata": {},
   "outputs": [
    {
     "data": {
      "text/plain": [
       "array([ 5., 11.,  6.,  3., 10.,  2.,  4.,  1.,  8.,  7., 12.,  9.])"
      ]
     },
     "execution_count": 69,
     "metadata": {},
     "output_type": "execute_result"
    }
   ],
   "source": [
    "#There will most likely be repeated values. Therefore this is a way to find out how many unique values are there.\n",
    "df.IMONTH4.unique()"
   ]
  },
  {
   "cell_type": "code",
   "execution_count": 70,
   "metadata": {},
   "outputs": [
    {
     "data": {
      "text/plain": [
       "count    5114.000000\n",
       "mean        5.222135\n",
       "std         2.746748\n",
       "min         1.000000\n",
       "25%         3.000000\n",
       "50%         5.000000\n",
       "75%         7.000000\n",
       "max        12.000000\n",
       "Name: IMONTH4, dtype: float64"
      ]
     },
     "execution_count": 70,
     "metadata": {},
     "output_type": "execute_result"
    }
   ],
   "source": [
    "#Check whether or not this is in object form or not.\n",
    "df.IMONTH4.describe()"
   ]
  },
  {
   "cell_type": "code",
   "execution_count": 72,
   "metadata": {},
   "outputs": [],
   "source": [
    "#In order for me to plot this month category, I decided to change the df variable to only contain the months data.\n",
    "df = df['IMONTH4']"
   ]
  },
  {
   "cell_type": "code",
   "execution_count": 83,
   "metadata": {},
   "outputs": [
    {
     "data": {
      "text/plain": [
       "Text(0.5, 1.0, 'Data for Number of months old in a particular year')"
      ]
     },
     "execution_count": 83,
     "metadata": {},
     "output_type": "execute_result"
    },
    {
     "data": {
      "image/png": "[encoded data removed]",
      "text/plain": [
       "<Figure size 640x480 with 1 Axes>"
      ]
     },
     "metadata": {},
     "output_type": "display_data"
    }
   ],
   "source": [
    "plt.boxplot(df, vert=False)\n",
    "plt.xlabel('Number of months old')\n",
    "plt.title('Data for Number of months old in a particular year')"
   ]
  },
  {
   "cell_type": "markdown",
   "metadata": {},
   "source": [
    "PART 2: YAHOO FINANCE"
   ]
  },
  {
   "cell_type": "markdown",
   "metadata": {},
   "source": []
  }
 ],
 "metadata": {
  "kernelspec": {
   "display_name": "Python 3",
   "language": "python",
   "name": "python3"
  },
  "language_info": {
   "codemirror_mode": {
    "name": "ipython",
    "version": 3
   },
   "file_extension": ".py",
   "mimetype": "text/x-python",
   "name": "python",
   "nbconvert_exporter": "python",
   "pygments_lexer": "ipython3",
   "version": "3.12.1"
  }
 },
 "nbformat": 4,
 "nbformat_minor": 2
}
