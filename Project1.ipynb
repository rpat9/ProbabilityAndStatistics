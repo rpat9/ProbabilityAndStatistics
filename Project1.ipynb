{
 "cells": [
  {
   "cell_type": "markdown",
   "metadata": {},
   "source": [
    "PART 1: HEALTH DATA"
   ]
  },
  {
   "cell_type": "code",
   "execution_count": 2,
   "metadata": {},
   "outputs": [],
   "source": [
    "#Import all the libraries needed\n",
    "import pandas as pd\n",
    "import numpy as np\n",
    "import datetime\n",
    "import matplotlib.pyplot as plt\n",
    "%matplotlib inline"
   ]
  },
  {
   "cell_type": "code",
   "execution_count": 3,
   "metadata": {},
   "outputs": [],
   "source": [
    "#Make a data frame from the csv file downloaded\n",
    "df = pd.read_csv('csvFiles/add_health_data.csv', index_col=None, encoding='utf-8')"
   ]
  },
  {
   "cell_type": "code",
   "execution_count": 38,
   "metadata": {},
   "outputs": [
    {
     "data": {
      "text/html": [
       "<div>\n",
       "<style scoped>\n",
       "    .dataframe tbody tr th:only-of-type {\n",
       "        vertical-align: middle;\n",
       "    }\n",
       "\n",
       "    .dataframe tbody tr th {\n",
       "        vertical-align: top;\n",
       "    }\n",
       "\n",
       "    .dataframe thead th {\n",
       "        text-align: right;\n",
       "    }\n",
       "</style>\n",
       "<table border=\"1\" class=\"dataframe\">\n",
       "  <thead>\n",
       "    <tr style=\"text-align: right;\">\n",
       "      <th></th>\n",
       "      <th>AID</th>\n",
       "      <th>BIO_SEX</th>\n",
       "      <th>agew1</th>\n",
       "      <th>IMONTH4</th>\n",
       "      <th>IDAY4</th>\n",
       "      <th>IYEAR4</th>\n",
       "      <th>MACNO4</th>\n",
       "      <th>INTID4</th>\n",
       "      <th>BIO_SEX4</th>\n",
       "      <th>VERSION4</th>\n",
       "      <th>...</th>\n",
       "      <th>H4EO5C</th>\n",
       "      <th>H4EO5D</th>\n",
       "      <th>H4EO5E</th>\n",
       "      <th>H4EO5F</th>\n",
       "      <th>H4EO5G</th>\n",
       "      <th>H4EO5H</th>\n",
       "      <th>H4EO5I</th>\n",
       "      <th>H4EO5J</th>\n",
       "      <th>H4EO6</th>\n",
       "      <th>H4EO7</th>\n",
       "    </tr>\n",
       "  </thead>\n",
       "  <tbody>\n",
       "    <tr>\n",
       "      <th>0</th>\n",
       "      <td>5710027</td>\n",
       "      <td>2</td>\n",
       "      <td></td>\n",
       "      <td></td>\n",
       "      <td></td>\n",
       "      <td>NaN</td>\n",
       "      <td></td>\n",
       "      <td></td>\n",
       "      <td></td>\n",
       "      <td></td>\n",
       "      <td>...</td>\n",
       "      <td></td>\n",
       "      <td></td>\n",
       "      <td></td>\n",
       "      <td></td>\n",
       "      <td></td>\n",
       "      <td></td>\n",
       "      <td></td>\n",
       "      <td></td>\n",
       "      <td></td>\n",
       "      <td></td>\n",
       "    </tr>\n",
       "    <tr>\n",
       "      <th>1</th>\n",
       "      <td>5710131</td>\n",
       "      <td>2</td>\n",
       "      <td>19.42739726</td>\n",
       "      <td>5</td>\n",
       "      <td>6</td>\n",
       "      <td>2008.0</td>\n",
       "      <td>2288160</td>\n",
       "      <td>160</td>\n",
       "      <td>2</td>\n",
       "      <td>V5.4</td>\n",
       "      <td>...</td>\n",
       "      <td>0</td>\n",
       "      <td>0</td>\n",
       "      <td>0</td>\n",
       "      <td>0</td>\n",
       "      <td>0</td>\n",
       "      <td>0</td>\n",
       "      <td>0</td>\n",
       "      <td>0</td>\n",
       "      <td>2</td>\n",
       "      <td>1</td>\n",
       "    </tr>\n",
       "    <tr>\n",
       "      <th>2</th>\n",
       "      <td>5710317</td>\n",
       "      <td>1</td>\n",
       "      <td></td>\n",
       "      <td></td>\n",
       "      <td></td>\n",
       "      <td>NaN</td>\n",
       "      <td></td>\n",
       "      <td></td>\n",
       "      <td></td>\n",
       "      <td></td>\n",
       "      <td>...</td>\n",
       "      <td></td>\n",
       "      <td></td>\n",
       "      <td></td>\n",
       "      <td></td>\n",
       "      <td></td>\n",
       "      <td></td>\n",
       "      <td></td>\n",
       "      <td></td>\n",
       "      <td></td>\n",
       "      <td></td>\n",
       "    </tr>\n",
       "    <tr>\n",
       "      <th>3</th>\n",
       "      <td>5710386</td>\n",
       "      <td>1</td>\n",
       "      <td>20.43013699</td>\n",
       "      <td>5</td>\n",
       "      <td>22</td>\n",
       "      <td>2008.0</td>\n",
       "      <td>2288238</td>\n",
       "      <td>238</td>\n",
       "      <td>1</td>\n",
       "      <td>V5.4</td>\n",
       "      <td>...</td>\n",
       "      <td>0</td>\n",
       "      <td>0</td>\n",
       "      <td>0</td>\n",
       "      <td>0</td>\n",
       "      <td>0</td>\n",
       "      <td>0</td>\n",
       "      <td>0</td>\n",
       "      <td>0</td>\n",
       "      <td>4</td>\n",
       "      <td>1</td>\n",
       "    </tr>\n",
       "    <tr>\n",
       "      <th>4</th>\n",
       "      <td>5710455</td>\n",
       "      <td>2</td>\n",
       "      <td></td>\n",
       "      <td></td>\n",
       "      <td></td>\n",
       "      <td>NaN</td>\n",
       "      <td></td>\n",
       "      <td></td>\n",
       "      <td></td>\n",
       "      <td></td>\n",
       "      <td>...</td>\n",
       "      <td></td>\n",
       "      <td></td>\n",
       "      <td></td>\n",
       "      <td></td>\n",
       "      <td></td>\n",
       "      <td></td>\n",
       "      <td></td>\n",
       "      <td></td>\n",
       "      <td></td>\n",
       "      <td></td>\n",
       "    </tr>\n",
       "  </tbody>\n",
       "</table>\n",
       "<p>5 rows × 976 columns</p>\n",
       "</div>"
      ],
      "text/plain": [
       "       AID  BIO_SEX        agew1 IMONTH4 IDAY4  IYEAR4   MACNO4 INTID4  \\\n",
       "0  5710027        2                                NaN                   \n",
       "1  5710131        2  19.42739726       5     6  2008.0  2288160    160   \n",
       "2  5710317        1                                NaN                   \n",
       "3  5710386        1  20.43013699       5    22  2008.0  2288238    238   \n",
       "4  5710455        2                                NaN                   \n",
       "\n",
       "  BIO_SEX4 VERSION4  ... H4EO5C H4EO5D H4EO5E H4EO5F H4EO5G H4EO5H H4EO5I  \\\n",
       "0                    ...                                                    \n",
       "1        2     V5.4  ...      0      0      0      0      0      0      0   \n",
       "2                    ...                                                    \n",
       "3        1     V5.4  ...      0      0      0      0      0      0      0   \n",
       "4                    ...                                                    \n",
       "\n",
       "  H4EO5J H4EO6 H4EO7  \n",
       "0                     \n",
       "1      0     2     1  \n",
       "2                     \n",
       "3      0     4     1  \n",
       "4                     \n",
       "\n",
       "[5 rows x 976 columns]"
      ]
     },
     "execution_count": 38,
     "metadata": {},
     "output_type": "execute_result"
    }
   ],
   "source": [
    "df.head(5)"
   ]
  },
  {
   "cell_type": "code",
   "execution_count": 68,
   "metadata": {},
   "outputs": [],
   "source": [
    "#Saw from NaN and blank values. I decided to get rid of them to make it as accurate as possible\n",
    "df = df.dropna()"
   ]
  },
  {
   "cell_type": "code",
   "execution_count": 69,
   "metadata": {},
   "outputs": [
    {
     "data": {
      "text/plain": [
       "array([ 5., 11.,  6.,  3., 10.,  2.,  4.,  1.,  8.,  7., 12.,  9.])"
      ]
     },
     "execution_count": 69,
     "metadata": {},
     "output_type": "execute_result"
    }
   ],
   "source": [
    "#There will most likely be repeated values. Therefore this is a way to find out how many unique values are there.\n",
    "df.IMONTH4.unique()"
   ]
  },
  {
   "cell_type": "code",
   "execution_count": 70,
   "metadata": {},
   "outputs": [
    {
     "data": {
      "text/plain": [
       "count    5114.000000\n",
       "mean        5.222135\n",
       "std         2.746748\n",
       "min         1.000000\n",
       "25%         3.000000\n",
       "50%         5.000000\n",
       "75%         7.000000\n",
       "max        12.000000\n",
       "Name: IMONTH4, dtype: float64"
      ]
     },
     "execution_count": 70,
     "metadata": {},
     "output_type": "execute_result"
    }
   ],
   "source": [
    "#Check whether or not this is in object form or not.\n",
    "df.IMONTH4.describe()"
   ]
  },
  {
   "cell_type": "code",
   "execution_count": 72,
   "metadata": {},
   "outputs": [],
   "source": [
    "#In order for me to plot this month category, I decided to change the df variable to only contain the months data.\n",
    "df = df['IMONTH4']"
   ]
  },
  {
   "cell_type": "code",
   "execution_count": 83,
   "metadata": {},
   "outputs": [
    {
     "data": {
      "text/plain": [
       "Text(0.5, 1.0, 'Data for Number of months old in a particular year')"
      ]
     },
     "execution_count": 83,
     "metadata": {},
     "output_type": "execute_result"
    },
    {
     "data": {
      "image/png": "[encoded data removed]",
      "text/plain": [
       "<Figure size 640x480 with 1 Axes>"
      ]
     },
     "metadata": {},
     "output_type": "display_data"
    }
   ],
   "source": [
    "plt.boxplot(df, vert=False)\n",
    "plt.xlabel('Number of months old')\n",
    "plt.title('Data for Number of months old in a particular year')"
   ]
  },
  {
   "cell_type": "markdown",
   "metadata": {},
   "source": [
    "PART 2: YAHOO FINANCE"
   ]
  },
  {
   "cell_type": "markdown",
   "metadata": {},
   "source": [
    "I SELECTED BITCOIN(BTC) FOR THIS SECOND PART"
   ]
  },
  {
   "cell_type": "code",
   "execution_count": 4,
   "metadata": {},
   "outputs": [],
   "source": [
    "#Make a data frame from the csv file downloaded\n",
    "df2 = pd.read_csv('csvFiles/BTC-USD.csv', index_col=None, encoding='utf-8')"
   ]
  },
  {
   "cell_type": "code",
   "execution_count": 5,
   "metadata": {},
   "outputs": [
    {
     "data": {
      "text/html": [
       "<div>\n",
       "<style scoped>\n",
       "    .dataframe tbody tr th:only-of-type {\n",
       "        vertical-align: middle;\n",
       "    }\n",
       "\n",
       "    .dataframe tbody tr th {\n",
       "        vertical-align: top;\n",
       "    }\n",
       "\n",
       "    .dataframe thead th {\n",
       "        text-align: right;\n",
       "    }\n",
       "</style>\n",
       "<table border=\"1\" class=\"dataframe\">\n",
       "  <thead>\n",
       "    <tr style=\"text-align: right;\">\n",
       "      <th></th>\n",
       "      <th>Date</th>\n",
       "      <th>Open</th>\n",
       "      <th>High</th>\n",
       "      <th>Low</th>\n",
       "      <th>Close</th>\n",
       "      <th>Adj Close</th>\n",
       "      <th>Volume</th>\n",
       "    </tr>\n",
       "  </thead>\n",
       "  <tbody>\n",
       "    <tr>\n",
       "      <th>0</th>\n",
       "      <td>2023-03-01</td>\n",
       "      <td>23150.929688</td>\n",
       "      <td>29159.902344</td>\n",
       "      <td>19628.253906</td>\n",
       "      <td>28478.484375</td>\n",
       "      <td>28478.484375</td>\n",
       "      <td>883299703608</td>\n",
       "    </tr>\n",
       "    <tr>\n",
       "      <th>1</th>\n",
       "      <td>2023-04-01</td>\n",
       "      <td>28473.332031</td>\n",
       "      <td>31005.607422</td>\n",
       "      <td>27070.849609</td>\n",
       "      <td>29268.806641</td>\n",
       "      <td>29268.806641</td>\n",
       "      <td>511540319004</td>\n",
       "    </tr>\n",
       "    <tr>\n",
       "      <th>2</th>\n",
       "      <td>2023-05-01</td>\n",
       "      <td>29227.103516</td>\n",
       "      <td>29820.126953</td>\n",
       "      <td>25878.429688</td>\n",
       "      <td>27219.658203</td>\n",
       "      <td>27219.658203</td>\n",
       "      <td>443473015479</td>\n",
       "    </tr>\n",
       "    <tr>\n",
       "      <th>3</th>\n",
       "      <td>2023-06-01</td>\n",
       "      <td>27218.412109</td>\n",
       "      <td>31389.539063</td>\n",
       "      <td>24797.167969</td>\n",
       "      <td>30477.251953</td>\n",
       "      <td>30477.251953</td>\n",
       "      <td>481734214225</td>\n",
       "    </tr>\n",
       "    <tr>\n",
       "      <th>4</th>\n",
       "      <td>2023-07-01</td>\n",
       "      <td>30471.847656</td>\n",
       "      <td>31814.515625</td>\n",
       "      <td>28934.294922</td>\n",
       "      <td>29230.111328</td>\n",
       "      <td>29230.111328</td>\n",
       "      <td>382224489090</td>\n",
       "    </tr>\n",
       "  </tbody>\n",
       "</table>\n",
       "</div>"
      ],
      "text/plain": [
       "         Date          Open          High           Low         Close  \\\n",
       "0  2023-03-01  23150.929688  29159.902344  19628.253906  28478.484375   \n",
       "1  2023-04-01  28473.332031  31005.607422  27070.849609  29268.806641   \n",
       "2  2023-05-01  29227.103516  29820.126953  25878.429688  27219.658203   \n",
       "3  2023-06-01  27218.412109  31389.539063  24797.167969  30477.251953   \n",
       "4  2023-07-01  30471.847656  31814.515625  28934.294922  29230.111328   \n",
       "\n",
       "      Adj Close        Volume  \n",
       "0  28478.484375  883299703608  \n",
       "1  29268.806641  511540319004  \n",
       "2  27219.658203  443473015479  \n",
       "3  30477.251953  481734214225  \n",
       "4  29230.111328  382224489090  "
      ]
     },
     "execution_count": 5,
     "metadata": {},
     "output_type": "execute_result"
    }
   ],
   "source": [
    "df2.head()"
   ]
  },
  {
   "cell_type": "code",
   "execution_count": 7,
   "metadata": {},
   "outputs": [],
   "source": [
    "#Setting up the x-axis and y-axis\n",
    "xAxis = df2.Date\n",
    "yAxis = df2.Close"
   ]
  },
  {
   "cell_type": "code",
   "execution_count": 34,
   "metadata": {},
   "outputs": [
    {
     "data": {
      "text/plain": [
       "[<matplotlib.lines.Line2D at 0x1d39009f170>]"
      ]
     },
     "execution_count": 34,
     "metadata": {},
     "output_type": "execute_result"
    },
    {
     "data": {
      "image/png": "[encoded data removed]",
      "text/plain": [
       "<Figure size 1500x500 with 1 Axes>"
      ]
     },
     "metadata": {},
     "output_type": "display_data"
    }
   ],
   "source": [
    "#Setting up the labels, ticks, title, and size of the graph\n",
    "f = plt.figure()\n",
    "f.set_figwidth(15)\n",
    "f.set_figheight(5)\n",
    "\n",
    "plt.xlabel('Date (Month/Year)')\n",
    "plt.ylabel('Closing Price ($)')\n",
    "plt.title('BTC Closing Price from 2/7/2023 to 2/7/2024')\n",
    "plt.xticks([0, 1, 2, 3, 4, 5, 6, 7, 8, 9, 10, 11], ('March 2023', 'April 2023', 'May 2023', 'June 2023', 'July 2023', 'August 2023', 'September 2023', 'October 2023', 'November 2023', 'December 2023', 'January 2024', 'February 2024'))\n",
    "plt.rc('xtick', labelsize=7) \n",
    "plt.rc('ytick', labelsize=8) \n",
    "plt.plot(xAxis, yAxis)"
   ]
  },
  {
   "cell_type": "markdown",
   "metadata": {},
   "source": [
    "PART 3: KAGGLE INTERESTS"
   ]
  },
  {
   "cell_type": "markdown",
   "metadata": {},
   "source": [
    "- First dataset: Car Sales Report -> https://www.kaggle.com/datasets/missionjee/car-sales-report/data\n",
    "    \n",
    "    This is a global dataset that includes what type of cars people buy. This dataset has categories such as the model of the car, the gender of the person who bought it, the person's and income, etc.\n",
    "\n",
    "    I am into cars and love to see a sales report. It makes me interested because I want to know which companies do most people buy from. I would also love to know how much an average person spends on a car. Since we are looking at the sales report, I can also find out the time of the year that the sales occured. Because of that, I would love to know what times of the year could be the busiest. Likewise, I would love to know what times of the year are slowest. Overall, this dataset got me curious and one can find alot of things by analyzing it.\n",
    "\n",
    "- Second dataset: 2023 Data Scientists Salary -> https://www.kaggle.com/datasets/henryshan/2023-data-scientists-salary\n",
    "\n",
    "    This dataset focuses on salaries of different data science fields in the data science domain. There are many categories that this dataset has. Some of the categories are: employment type, job title, salaries, company size, and experience level.\n",
    "\n",
    "    I am interested in this dataset because I am a Computer Science Major here at Lewis University. I have not yet decided whether or not I want to pursue data science. I enjoy learning and using code to understand things about data. This dataset will help me understand some trends that are going on in the data science field right now. With this dataset I can compare two different categories. For example, I can compare the average salary with the amount of experience, as well as, employment type. Something interesting that I want to do with this dataset is to compare average salary with company size. Overall, this dataset is something that I am interested in because data science is what I may pursue in future.\n",
    "\n",
    "- Third dataset: New York Housing Market -> https://www.kaggle.com/datasets/nelgiriyewithana/new-york-housing-market\n",
    "\n",
    "    This dataset is mainly about housing in New York City. There are many categories that this dataset has. Some of the categories are: house types, prices, number of bedrooms and bathrooms, and most importantly, the broker.\n",
    "\n",
    "    I am interested in this dataset because I am a Real Estate Broker and Realtor in Illinois. Housing trends are something that I am very interested in. This dataset will help me understand some trends that involve the price of the house realted with the broker that is involved in influencing the price of the house. It is important to know which companies can charge more or less for a property. Even though, this dataset does not include properties in Illinois, I was still curious about to know about properties in New York. \n"
   ]
  }
 ],
 "metadata": {
  "kernelspec": {
   "display_name": "Python 3",
   "language": "python",
   "name": "python3"
  },
  "language_info": {
   "codemirror_mode": {
    "name": "ipython",
    "version": 3
   },
   "file_extension": ".py",
   "mimetype": "text/x-python",
   "name": "python",
   "nbconvert_exporter": "python",
   "pygments_lexer": "ipython3",
   "version": "3.12.1"
  }
 },
 "nbformat": 4,
 "nbformat_minor": 2
}
